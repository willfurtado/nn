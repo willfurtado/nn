{
 "cells": [
  {
   "cell_type": "code",
   "execution_count": null,
   "id": "2d0d1012",
   "metadata": {},
   "outputs": [],
   "source": [
    "import numpy as np\n",
    "\n",
    "from nn.models.fcn import FullyConnectedNetwork\n",
    "from nn.trainer import Trainer\n",
    "from nn.dataset import Dataset\n",
    "from nn.loss import logistic_loss\n",
    "\n",
    "%load_ext autoreload\n",
    "%autoreload 2"
   ]
  },
  {
   "cell_type": "markdown",
   "id": "c7ccd861",
   "metadata": {},
   "source": [
    "## Training an MLP\n",
    "\n",
    "This notebook provides an example to train a simple feedforward neural network using the custom `nn` package.\n",
    "\n",
    "### 1. Creating the Dataset\n",
    "\n",
    "In order to train our model, we'll need data. We can use the `Dataset` class to organize some dummy data:"
   ]
  },
  {
   "cell_type": "code",
   "execution_count": null,
   "id": "0a109404",
   "metadata": {},
   "outputs": [],
   "source": [
    "num_examples: int = 100\n",
    "input_dim: int = 784\n",
    "num_classes: int = 1\n",
    "\n",
    "x = np.ones(shape=(num_examples, input_dim))\n",
    "y = np.zeros(shape=(num_examples, num_classes))\n",
    "\n",
    "# Create `Dataset` object with sample input\n",
    "dataset = Dataset(x=x, y=y)"
   ]
  },
  {
   "cell_type": "markdown",
   "id": "555dfd8a",
   "metadata": {},
   "source": [
    "### 2. Creating the Model\n",
    "\n",
    "The second step is to define the model's architecture using the `FullyConnectedNetwork` class. The class requires the following arguments:\n",
    "- `layer_dimensions (list[int])`: List of layer dimensions  to use in the network\n",
    "- `activations (list[str])`: List of activation function to use after each linear layer\n",
    "- `loss_fn (callable)`: Loss function used to optimize the neural network\n",
    "- `init_method (str)`: Model weight initialization method to use"
   ]
  },
  {
   "cell_type": "code",
   "execution_count": null,
   "id": "af8da544",
   "metadata": {},
   "outputs": [],
   "source": [
    "model = FullyConnectedNetwork(\n",
    "    layer_dimensions=[784, 256, 10, num_classes],\n",
    "    activations=[\"relu\", \"relu\", \"sigmoid\"],\n",
    "    loss_fn=logistic_loss,\n",
    "    init_method=\"gaussian\",\n",
    "    \n",
    ")"
   ]
  },
  {
   "cell_type": "markdown",
   "id": "48ea86a4",
   "metadata": {},
   "source": [
    "### 3. Creating the Trainer\n",
    "\n",
    "After creating our model and dataset, we can construct our `Trainer` object, responsible for launching and executing the training run. In addition to the `model` and `dataset`, the `Trainer` class takes in the following hyperparameters:\n",
    "- `num_epochs (int)`: Number of epochs to run the training job for\n",
    "- `batch_size (int`): Number of examples to load for each batch\n",
    "- `learning_rate (float`): Learning rate to use for gradient descent optimization\n",
    "- `drop_last (bool)`: Whether to drop the last training batch, in the case that the batch size does not divide the size of the dataset evenly.\n",
    "- `verbose (bool)`: Whether to print out intermediate training losses and accuracy"
   ]
  },
  {
   "cell_type": "code",
   "execution_count": null,
   "id": "df777be0",
   "metadata": {},
   "outputs": [],
   "source": [
    "num_epochs: int = 100\n",
    "batch_size: int = 16\n",
    "learning_rate: float = 0.01\n",
    "drop_last: bool = True\n",
    "verbose: bool = True\n",
    "\n",
    "    \n",
    "# Create the Trainer object using the hyperparameters    \n",
    "trainer = Trainer(\n",
    "    model=model,\n",
    "    dataset=dataset,\n",
    "    num_epochs=num_epochs,\n",
    "    batch_size=batch_size,\n",
    "    learning_rate=learning_rate,\n",
    "    drop_last=drop_last,\n",
    "    verbose=verbose,\n",
    ")"
   ]
  },
  {
   "cell_type": "markdown",
   "id": "f53d7f5c",
   "metadata": {},
   "source": [
    "### 4. Launching a Training Run\n",
    "\n",
    "The last step is to call the `train` method of a `Trainer` instance:"
   ]
  },
  {
   "cell_type": "code",
   "execution_count": null,
   "id": "465720c8",
   "metadata": {},
   "outputs": [],
   "source": [
    "trainer.train()"
   ]
  },
  {
   "cell_type": "markdown",
   "id": "68b9612d",
   "metadata": {},
   "source": [
    "You can access the trained model through the `model` attribute of the `Trainer` instance:"
   ]
  },
  {
   "cell_type": "code",
   "execution_count": null,
   "id": "3924982e",
   "metadata": {},
   "outputs": [],
   "source": [
    "trainer.model"
   ]
  }
 ],
 "metadata": {
  "kernelspec": {
   "display_name": "Python 3 (ipykernel)",
   "language": "python",
   "name": "python3"
  },
  "language_info": {
   "codemirror_mode": {
    "name": "ipython",
    "version": 3
   },
   "file_extension": ".py",
   "mimetype": "text/x-python",
   "name": "python",
   "nbconvert_exporter": "python",
   "pygments_lexer": "ipython3",
   "version": "3.9.11"
  }
 },
 "nbformat": 4,
 "nbformat_minor": 5
}
