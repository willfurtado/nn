{
 "cells": [
  {
   "cell_type": "code",
   "execution_count": null,
   "id": "2d0d1012",
   "metadata": {},
   "outputs": [],
   "source": [
    "import numpy as np\n",
    "\n",
    "from nn.models.fcn import FullyConnectedNetwork\n",
    "from nn.trainer import Trainer\n",
    "from nn.dataset import Dataset\n",
    "from nn.loss import logistic_loss\n",
    "\n",
    "%load_ext autoreload\n",
    "%autoreload 2"
   ]
  },
  {
   "cell_type": "markdown",
   "id": "555dfd8a",
   "metadata": {},
   "source": [
    "## Training an MLP\n",
    "\n",
    "### Creating the Model"
   ]
  },
  {
   "cell_type": "code",
   "execution_count": null,
   "id": "af8da544",
   "metadata": {},
   "outputs": [],
   "source": [
    "model = FullyConnectedNetwork(\n",
    "    layer_dimensions=[784, 256, 10, 1],\n",
    "    activations=[\"relu\", \"relu\", \"sigmoid\"],\n",
    "    loss_fn=logistic_loss,\n",
    "    init_method=\"gaussian\",\n",
    "    \n",
    ")"
   ]
  },
  {
   "cell_type": "markdown",
   "id": "c7ccd861",
   "metadata": {},
   "source": [
    "### Creating the Dataset"
   ]
  },
  {
   "cell_type": "code",
   "execution_count": null,
   "id": "0a109404",
   "metadata": {},
   "outputs": [],
   "source": [
    "x = np.ones(shape=(100, 784))\n",
    "y = np.zeros(shape=(100, 1))\n",
    "\n",
    "# Create `Dataset` object with sample input\n",
    "dataset = Dataset(\n",
    "    x=x,\n",
    "    y=y,\n",
    ")"
   ]
  },
  {
   "cell_type": "markdown",
   "id": "48ea86a4",
   "metadata": {},
   "source": [
    "### Creating the Trainer"
   ]
  },
  {
   "cell_type": "code",
   "execution_count": null,
   "id": "df777be0",
   "metadata": {},
   "outputs": [],
   "source": [
    "trainer = Trainer(\n",
    "    model=model,\n",
    "    dataset=dataset,\n",
    "    num_epochs=1000,\n",
    "    batch_size=16,\n",
    "    learning_rate=0.1,\n",
    "    drop_last=True,\n",
    "    verbose=True,\n",
    ")"
   ]
  },
  {
   "cell_type": "markdown",
   "id": "f53d7f5c",
   "metadata": {},
   "source": [
    "### Training Run"
   ]
  },
  {
   "cell_type": "code",
   "execution_count": null,
   "id": "465720c8",
   "metadata": {},
   "outputs": [],
   "source": [
    "trainer.train()"
   ]
  }
 ],
 "metadata": {
  "kernelspec": {
   "display_name": "Python 3 (ipykernel)",
   "language": "python",
   "name": "python3"
  },
  "language_info": {
   "codemirror_mode": {
    "name": "ipython",
    "version": 3
   },
   "file_extension": ".py",
   "mimetype": "text/x-python",
   "name": "python",
   "nbconvert_exporter": "python",
   "pygments_lexer": "ipython3",
   "version": "3.9.11"
  }
 },
 "nbformat": 4,
 "nbformat_minor": 5
}
